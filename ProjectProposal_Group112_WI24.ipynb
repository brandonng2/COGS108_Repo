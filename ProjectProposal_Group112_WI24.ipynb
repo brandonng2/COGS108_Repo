{
 "cells": [
  {
   "cell_type": "markdown",
   "id": "1d9757dc",
   "metadata": {},
   "source": [
    "# COGS 108 - Project Proposal"
   ]
  },
  {
   "cell_type": "markdown",
   "id": "0d0618a2",
   "metadata": {},
   "source": [
    "# Names\n",
    "\n",
    "- Brandon Ng\n",
    "- Sophia Yu\n",
    "- Sandra Gomez\n",
    "- Aydin Tabatabai\n",
    "- Aarya Patel"
   ]
  },
  {
   "cell_type": "markdown",
   "id": "a0b79c35",
   "metadata": {},
   "source": [
    "# Research Question"
   ]
  },
  {
   "cell_type": "markdown",
   "id": "16a5c162",
   "metadata": {},
   "source": [
    "How has the introduction of AI applications such as ChatGPT affected UCSD students’ grades? More specifically, how has ChatGPT affected grades by schools, divisions, and departments?"
   ]
  },
  {
   "cell_type": "markdown",
   "id": "46012be1",
   "metadata": {},
   "source": [
    "## Background and Prior Work"
   ]
  },
  {
   "cell_type": "markdown",
   "id": "3491752a",
   "metadata": {},
   "source": [
    "In recent years, artificial intelligence has gradually broadened its scope with the emergence of powerful generative language models such as OpenAI’s ChatGPT. Since its launch in November 2022, ChatGPT represented a pivotal breakthrough in natural language processing, providing users the ability to engage in human-like conversations with AI. This innovation has revolutionized many industries, optimizing workflows and providing invaluable assistance to professionals. Furthermore, ChatGPT’s introduction has impacted individuals, providing users with a tool to not only help them throughout their daily life but also assist them through their academic endeavors. \n",
    "\n",
    "However, as ChatGPT’s presence grew, debates arose regarding how AI impacts learning among students. After a year since it was launched, ChatGPT was already being used by 30% of college students<a name=\"cite_ref-1\"></a>[<sup>1</sup>](#cite_note-1), and this number continues to increase today. Many professors and even students have expressed issues regarding the ethical implementation of AI in education, highlighting concerns about its potential to enable academic dishonesty and break integrity.\n",
    "\n",
    "In response, educational institutions have begun to address these issues. For example, UCSD has proactively engaged with this problem by implementing policies and guidelines concerning the use of AI tools like ChatGPT in academic settings. The school strongly encourages students to not use ChatGPT, unless approved by their professor or using it to aid brainstorming. <a name=\"cite_ref-2\"></a>[<sup>2</sup>](#cite_note-2) In addition, they have heavily emphasized the consequences of using ChatGPT, including being suspended and failing the class.\n",
    "\n",
    "Beyond policies, there are also other tools that have emerged to combat academic integrity violations involving ChatGPT, such as GPTZero—a tool created to identify whether a piece of text is written by AI. Especially for professors who are worried about plagiarized essays, GPTZero serves as a new tool to address their concerns. <a name=\"cite_ref-3\"></a>[<sup>3</sup>](#cite_note-3) This creation has even inspired the developer of ChatGPT, OpenAI, to take on this challenge to prevent AI plagiarism and other wrong doings.\n",
    "\n",
    "This appearance of AI presents a unique opportunity to explore the impact of ChatGPT and similar tools on academic integrity, student grades, and the broader educational landscape. Ever since ChatGPT was released, there have been numerous studies that delve into the impact and ethics of artificial intelligence in education. For example, in a study conducted by Scientific American, the researchers explored how ChatGPT can assist in academic tasks, helping students achieve notable grades. <a name=\"cite_ref-4\"></a>[<sup>4</sup>](#cite_note-4) On the other hand, another study focused on analyzing the impact of AI chatbots on high-education institutions, raising concerns about its negative impact on human-based interaction and learning. <a name=\"cite_ref-5\"></a>[<sup>5</sup>](#cite_note-5)\n",
    "\n",
    "In this project we will dive deeper into this subject, exploring the influence of ChatGPT on the academic performance of UCSD students. \n",
    "\n",
    "1. <a name=\"cite_note-1\"></a> [^](#cite_ref-1) (05 Sep 2023) ONE-THIRD OF COLLEGE STUDENTS USED CHATGPT FOR SCHOOLWORK DURING THE 2022-23 ACADEMIC YEAR . *Intelligent*. https://www.intelligent.com/one-third-of-college-students-used-chatgpt-for-schoolwork-during-the-2022-23-academic-year/#:~:text=30%25%20of%20college%20students%20used,the%20tool%20to%20another%20student \n",
    "2. <a name=\"cite_note-2\"></a> [^](#cite_ref-2) Q: Is it cheating to use ChatGPT?. *UCSanDiego Academic Integrity*. https://academicintegrity.ucsd.edu/excel-integrity/ai-in-education.html\n",
    "3. <a name=\"cite_note-3\"></a> [^](#cite_ref-3) Bowman, E. (09 Jan 2023) A college student created an app that can tell whether AI wrote an essay. *NPR*. https://www.npr.org/2023/01/09/1147549845/gptzero-ai-chatgpt-edward-tian-plagiarism\n",
    "4. <a name=\"cite_note-4\"></a> [^](#cite_ref-4) Leffer, L. (25 Aug 2023) ChatGPT Can Get Good Grades. What Should Educators Do about It?. *Scientific American*. https://www.scientificamerican.com/article/chatgpt-can-get-good-grades-what-should-educators-do-about-it/\n",
    "5. <a name=\"cite_note-5\"></a> [^](#cite_ref-5) Dempere, J., et al. (08 Sep 2023) The impact of ChatGPT on higher education. *Frontiers*. https://www.frontiersin.org/articles/10.3389/feduc.2023.1206936/full\n"
   ]
  },
  {
   "cell_type": "markdown",
   "id": "df00b93a",
   "metadata": {},
   "source": [
    "# Hypothesis\n"
   ]
  },
  {
   "cell_type": "markdown",
   "id": "5e421ba5",
   "metadata": {},
   "source": [
    "Despite concerns about ChatGPT's accuracy and its potential impact on student motivation, we believe that grades have improved since the introduction of ChatGPT. Its efficiency and versatile capabilities, ranging from homework assistance to coding, have played a significant role in fostering an academic environment where achieving high grades is easier and more attainable."
   ]
  },
  {
   "cell_type": "markdown",
   "id": "0bea0f9b",
   "metadata": {},
   "source": [
    "# Data"
   ]
  },
  {
   "cell_type": "markdown",
   "id": "50cf3b32",
   "metadata": {},
   "source": [
    "An ideal dataset for our research question would involve multiple variables that can illuminate the impact of ChatGPT on UCSD students. In an ideal dataset, we would measure variables such as teacher, course details (number and title), academic term, academic year, division (upper, lower, or grad), study hours per week, average grade, in-person or online quizzes/tests, department, and school. For example, considering this quarter's COGS 108 class, the variables would include instructor: Ellis, Shannon Elizabeth, course number: COGS 108, course title: COGS, term: Winter, year: 2023, division: Upper Division, study hours: 6, average grade: 3.8, in-person or online tests/quizzes: online, department: Cognitive Science, and school: School of Social Science. The average grade and year would be our most important variables to test whether ChatGPT has affected grades, while the other variables would help in creating subgroups like school, division, and department to address confounding factors.\n",
    "\n",
    "Because ChatGPT was released so recently, our preferred time frame for our analysis would ideally span from 2007 to Fall 2024 (most recently completed quarter). This range would allow us to obtain the most amount of data post ChatGPT effects so that we would have a bigger and more generalized dataset post ChatGPT. However, a limitation arises from the availability of data, particularly with CAPEs, as was started in 2007 but was recently discontinued during the summer of 2023.\n"
   ]
  },
  {
   "cell_type": "markdown",
   "id": "b43a7f7f",
   "metadata": {},
   "source": [
    "# Ethics & Privacy"
   ]
  },
  {
   "cell_type": "markdown",
   "id": "7ec30b75",
   "metadata": {},
   "source": [
    "Regarding the project's ethics and privacy, we will guarantee that our approach respects ethics and privacy issues while remaining lawful and fair throughout the development of our project. We will acknowledge that there may be unintended use of our data and results which we will heavily discourage and address here and throughout our project. The data that we've suggested can also carry some inherent biases in which the selection or omission of specific variables can potentially lead us to overlook certain factors while placing excessive emphasis on others.\n",
    "\n",
    "For instance, by focusing mainly on how ChatGPT affects students' grades, we might undervalue the impact of COVID-19 on academic performance. Specifically, during the years leading up to ChatGPT’s release, many courses were taught online or in hybrid settings, which may have affected students’ learning experience. Additionally, because ChatGPT was released in the middle of Fall 2022, the influence of ChatGPT may or may not have an effect on grades during this quarter which can influence the comparison of grades pre and post ChatGPT. Furthermore, the data is dependent on professors’ willingness to report average grades as some classes will/can be removed due to professors not reporting grades. Another example includes professors’ teaching style as it can heavily impact student performance as well and a teacher may or may not teach the same class for multiple quarters which can affect grades as a teacher can get better at teaching over time. \n",
    "\n",
    "To overcome these biases and confounds, our approach involves creating multiple subgroups for a more detailed exploration of the data. We can actively assess the effects of ChatGPT between departments, schools, or course levels to control for these confounds. Additionally, we can consider grouping by quarter or by class which can help limit the confounds. We can also try to explore other subgroups and acknowledge limitations within our EDA if necessary.\n",
    "Concerning potential issues related to data privacy and equitable impact in our topic area, we recognize the risk of influencing students’ and professors’ opinion towards ChatGPT. It can also produce doubts on whether students are taking classes at UCSD with academic honesty and integrity. However, given that student enrollment is anonymous in the dataset, data privacy concerns are minimal but we will still emphasize and discourage the use of our research for this intent. Furthermore, this dataset is specific towards UCSD students which we will emphasize that our research should not be used to generalize all students including those outside of UCSD. \n",
    "\n",
    "In the context of privacy of the data, the data utilized for our project was sourced from a publicly available dataset created by a UCSD student. This dataset consists of all the data webscrapped from CAPES, which is UCSD’s previous evaluation system that was recently replaced by SETS during the summer of 2023. Because CAPES is designated for academic and educational purposes, the data ensure privacy and anonymity for students represented in the data. Our use complies with all relevant institutional and legal standards, maintaining the integrity and respecting the contributions of the data. "
   ]
  },
  {
   "cell_type": "markdown",
   "id": "2371749d",
   "metadata": {},
   "source": [
    "# Team Expectations "
   ]
  },
  {
   "cell_type": "markdown",
   "id": "f3120891",
   "metadata": {},
   "source": [
    "* *Maintain open and regular communication to keep all team members informed and engaged.*\n",
    "* *Take responsibility for your contributions, acknowledging both successes and areas for improvement.*\n",
    "* *Work collaboratively, offering and seeking support to leverage the team's collective strengths.*\n",
    "* *Acknowledge the importance of personal time, promoting flexibility to enhance well-being and productivity.*\n",
    "* *Prioritize transparency, especially during busy periods, to manage expectations and maintain trust.*\n",
    "* *Cultivate a collaborative and supportive team environment, prioritizing reliability, accountability, respect, openness to feedback, and a willingness to learn from mistakes*"
   ]
  },
  {
   "cell_type": "markdown",
   "id": "dfd7fc2b",
   "metadata": {},
   "source": [
    "# Project Timeline Proposal"
   ]
  },
  {
   "cell_type": "markdown",
   "id": "98d9bea6",
   "metadata": {},
   "source": [
    "| Meeting Date  | Meeting Time| Completed Before Meeting  | Discussed at Meeting |\n",
    "|---|---|---|---|\n",
    "| 2/6  |  1 PM |  Do our own research on potential topic | Find and discuss topics; Choose a topic; Start looking at related datasets; Assign group members to complete each section of the project proposal | \n",
    "| 2/20  | 1 PM  | Find datasets correponding to the different time periods we want to analyze  | Discuss which datasets we want to use and how we will compile our data; Select datasets that we want to use and assign each person to think about how we will clean the data   |\n",
    "| 2/24  | 4 PM  | Think about what datasets are compatible | Review/Edit wrangling/EDA (and review for submission); Discuss Analysis Plan  |\n",
    "| 2/25  | Before 11:59 PM  | Review project checkpoint | Turn in Checkpoint #1: Data |\n",
    "| 2/27  | 1 PM  | Think about analysis details and what we need to complete | Discuss analysis; Assign subtasks for data analysis; Complete project check-in |\n",
    "| 3/5   | 1 PM   | Review analysis and draft conclusion points | Discuss/edit full project; Assign remaining necessary tasks |\n",
    "| 3/7   | 1 PM   | Continue to work on analysis | RESTART PROJECT |\n",
    "| 3/9   | 1 PM   | Finish rewriting project proposal and data checkpoint #1 | Discuss EDA and aim to finish soon |\n",
    "| 3/10  | Before 11:59 PM  | Review project EDA | Turn in Checkpoint #2: EDA |\n",
    "| 3/12  | 1 PM   | Continue to work on final tasks | Review project; Discuss points of improvement |\n",
    "| 3/20  | Before 11:59 PM  | Finalize project | Turn in Final Project & Group Project Surveys |"
   ]
  }
 ],
 "metadata": {
  "kernelspec": {
   "display_name": "Python 3 (ipykernel)",
   "language": "python",
   "name": "python3"
  },
  "language_info": {
   "codemirror_mode": {
    "name": "ipython",
    "version": 3
   },
   "file_extension": ".py",
   "mimetype": "text/x-python",
   "name": "python",
   "nbconvert_exporter": "python",
   "pygments_lexer": "ipython3",
   "version": "3.9.5"
  }
 },
 "nbformat": 4,
 "nbformat_minor": 5
}
